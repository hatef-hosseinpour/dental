{
  "nbformat": 4,
  "nbformat_minor": 0,
  "metadata": {
    "colab": {
      "provenance": [],
      "gpuType": "T4",
      "authorship_tag": "ABX9TyPMXj+zSRNQOOVnZniR1Y44",
      "include_colab_link": true
    },
    "kernelspec": {
      "name": "python3",
      "display_name": "Python 3"
    },
    "language_info": {
      "name": "python"
    },
    "accelerator": "GPU"
  },
  "cells": [
    {
      "cell_type": "markdown",
      "metadata": {
        "id": "view-in-github",
        "colab_type": "text"
      },
      "source": [
        "<a href=\"https://colab.research.google.com/github/hatef-hosseinpour/dental/blob/main/dental_classify_binary_2.ipynb\" target=\"_parent\"><img src=\"https://colab.research.google.com/assets/colab-badge.svg\" alt=\"Open In Colab\"/></a>"
      ]
    },
    {
      "cell_type": "code",
      "execution_count": 1,
      "metadata": {
        "id": "GNc5j20DgWL4",
        "colab": {
          "base_uri": "https://localhost:8080/"
        },
        "outputId": "a011b85a-cf1e-4e47-cf31-168b976abb16"
      },
      "outputs": [
        {
          "output_type": "stream",
          "name": "stdout",
          "text": [
            "Drive already mounted at /content/drive; to attempt to forcibly remount, call drive.mount(\"/content/drive\", force_remount=True).\n"
          ]
        }
      ],
      "source": [
        "from google.colab import drive\n",
        "drive.mount('/content/drive')"
      ]
    },
    {
      "cell_type": "code",
      "source": [
        "import os\n",
        "import cv2\n",
        "import torch\n",
        "import torch.nn as nn\n",
        "import torch.optim as optim\n",
        "from torch.utils.data import DataLoader, Dataset\n",
        "from torchvision import models, transforms\n",
        "from sklearn.model_selection import train_test_split\n",
        "from sklearn.metrics import accuracy_score, confusion_matrix\n",
        "import numpy as np\n",
        "from PIL import Image"
      ],
      "metadata": {
        "id": "HvwSC1vpbbrM"
      },
      "execution_count": 2,
      "outputs": []
    },
    {
      "cell_type": "code",
      "source": [
        "IMAGE_SIZE = 100\n",
        "BATCH_SIZE = 32\n",
        "LEARNING_RATE = 0.001\n",
        "EPOCHS = 10\n",
        "NORMALIZATION_MEAN = [0.5, 0.5, 0.5]\n",
        "NORMALIZATION_STD = [0.5, 0.5, 0.5]\n",
        "DEVICE = torch.device(\"cuda\" if torch.cuda.is_available() else \"cpu\")"
      ],
      "metadata": {
        "id": "NowDwjLmbe2x"
      },
      "execution_count": 3,
      "outputs": []
    },
    {
      "cell_type": "code",
      "source": [
        "data_transforms = transforms.Compose([\n",
        "    transforms.ToTensor(),\n",
        "    transforms.Normalize(NORMALIZATION_MEAN, NORMALIZATION_STD)\n",
        "])"
      ],
      "metadata": {
        "id": "-fqKBqx0bwRZ"
      },
      "execution_count": 4,
      "outputs": []
    },
    {
      "cell_type": "code",
      "source": [
        "class DentalDataset(Dataset):\n",
        "    def __init__(self, images, labels, transform=None):\n",
        "        self.images = images\n",
        "        self.labels = labels\n",
        "        self.transform = transform\n",
        "\n",
        "    def __len__(self):\n",
        "        return len(self.images)\n",
        "\n",
        "    def __getitem__(self, idx):\n",
        "        image = self.images[idx]\n",
        "        label = self.labels[idx]\n",
        "        if self.transform:\n",
        "            image = self.transform(image)\n",
        "        return image, label"
      ],
      "metadata": {
        "id": "gQKO_Pi3bzpg"
      },
      "execution_count": 5,
      "outputs": []
    },
    {
      "cell_type": "code",
      "source": [
        "def load_data(data_dir, label_mapping):\n",
        "    images = []\n",
        "    labels = []\n",
        "    for folder, label in label_mapping.items():\n",
        "        folder_path = os.path.join(data_dir, folder)\n",
        "        for file_name in os.listdir(folder_path):\n",
        "            file_path = os.path.join(folder_path, file_name)\n",
        "            image = cv2.imread(file_path, cv2.IMREAD_COLOR)\n",
        "            if image is not None:\n",
        "                image = cv2.resize(image, (IMAGE_SIZE, IMAGE_SIZE))\n",
        "                image = Image.fromarray(image)\n",
        "                images.append(image)\n",
        "                labels.append(label)\n",
        "    return images, labels"
      ],
      "metadata": {
        "id": "CmQnAXp_b3AZ"
      },
      "execution_count": 6,
      "outputs": []
    },
    {
      "cell_type": "code",
      "source": [
        "def save_best_model(model, val_accuracy, best_accuracy, model_name):\n",
        "    if val_accuracy > best_accuracy:\n",
        "        best_accuracy = val_accuracy\n",
        "        torch.save(model.state_dict(), f\"/content/drive/MyDrive/Dentisrty/data/{model_name}_best.pth\")\n",
        "    return best_accuracy"
      ],
      "metadata": {
        "id": "ma5z0199b6np"
      },
      "execution_count": 7,
      "outputs": []
    },
    {
      "cell_type": "code",
      "source": [],
      "metadata": {
        "id": "udB2HHwab9eo"
      },
      "execution_count": 7,
      "outputs": []
    },
    {
      "cell_type": "code",
      "source": [
        "def train_model(model, train_loader, val_loader, test_loader, criterion, optimizer, model_name):\n",
        "    best_val_accuracy = 0.0\n",
        "    for epoch in range(EPOCHS):\n",
        "        model.train()\n",
        "        running_loss = 0.0\n",
        "        for inputs, labels in train_loader:\n",
        "            inputs, labels = inputs.to(DEVICE), labels.to(DEVICE)\n",
        "\n",
        "            optimizer.zero_grad()\n",
        "            outputs = model(inputs)\n",
        "            loss = criterion(outputs, labels)\n",
        "            loss.backward()\n",
        "            optimizer.step()\n",
        "\n",
        "            running_loss += loss.item() * inputs.size(0)\n",
        "\n",
        "        print(f'Epoch {epoch+1}/{EPOCHS}, Loss: {running_loss/len(train_loader.dataset):.4f}')\n",
        "\n",
        "        # After each epoch, evaluate the model on the validation set\n",
        "        val_accuracy = evaluate_model(model, val_loader)\n",
        "        best_val_accuracy = save_best_model(model, val_accuracy, best_val_accuracy, model_name)\n",
        "        print(f\"Validation Accuracy after Epoch {epoch+1}: {val_accuracy:.4f}\")\n",
        "\n",
        "    print(f\"Best model for {model_name} saved with validation accuracy: {best_val_accuracy:.4f}\")\n",
        "\n",
        "    # After training, evaluate the model on the test set\n",
        "    test_accuracy = evaluate_model(model, test_loader)\n",
        "    print(f\"Test Accuracy for {model_name}: {test_accuracy:.4f}\")"
      ],
      "metadata": {
        "id": "NLEnyrJAcmVh"
      },
      "execution_count": 8,
      "outputs": []
    },
    {
      "cell_type": "code",
      "source": [
        "def evaluate_model(model, test_loader):\n",
        "    model.eval()\n",
        "    all_preds = []\n",
        "    all_labels = []\n",
        "    with torch.no_grad():\n",
        "        for inputs, labels in test_loader:\n",
        "            inputs, labels = inputs.to(DEVICE), labels.to(DEVICE)\n",
        "            outputs = model(inputs)\n",
        "            _, preds = torch.max(outputs, 1)\n",
        "            all_preds.extend(preds.cpu().numpy())\n",
        "            all_labels.extend(labels.cpu().numpy())\n",
        "\n",
        "    accuracy = accuracy_score(all_labels, all_preds)\n",
        "    print(f'Accuracy: {accuracy:.4f}')\n",
        "    return accuracy"
      ],
      "metadata": {
        "id": "HWwdXMzTco_o"
      },
      "execution_count": 9,
      "outputs": []
    },
    {
      "cell_type": "code",
      "source": [
        "def build_pretrained_model(model_name, num_classes):\n",
        "    if model_name == 'resnet18':\n",
        "        model = models.resnet18(pretrained=True)\n",
        "    #elif model_name == 'vgg16':\n",
        "    #   model = models.vgg16(pretrained=True)\n",
        "\n",
        "    #   model = models.mobilenet_v2(pretrained=True)\n",
        "    # Add more models here as needed\n",
        "\n",
        "    model.fc = nn.Linear(model.fc.in_features, num_classes)\n",
        "    return model.to(DEVICE)"
      ],
      "metadata": {
        "id": "SJH1sbppdkZi"
      },
      "execution_count": 10,
      "outputs": []
    },
    {
      "cell_type": "code",
      "source": [
        "# Predict function for unseen images\n",
        "def preprocess_image(image_path):\n",
        "    image = Image.open(image_path).convert('RGB')\n",
        "    image = image.resize((IMAGE_SIZE, IMAGE_SIZE))\n",
        "    image = data_transforms(image).unsqueeze(0)\n",
        "    return image"
      ],
      "metadata": {
        "id": "B-gvPXhKdodT"
      },
      "execution_count": 11,
      "outputs": []
    },
    {
      "cell_type": "code",
      "source": [
        "def load_model(model_path, model_class):\n",
        "    model = model_class()\n",
        "    model.load_state_dict(torch.load(model_path))\n",
        "    model.eval()\n",
        "    return model"
      ],
      "metadata": {
        "id": "O0cetDv_dvG-"
      },
      "execution_count": 12,
      "outputs": []
    },
    {
      "cell_type": "code",
      "source": [
        "def predict_image(image_path, model_path1, model_path2, model_class):\n",
        "    image_tensor = preprocess_image(image_path).to(DEVICE)\n",
        "\n",
        "    # Model 1: Caries detection\n",
        "    model1 = load_model(model_path1, model_class).to(DEVICE)\n",
        "\n",
        "    with torch.no_grad():\n",
        "        output1 = model1(image_tensor)\n",
        "        prob1 = torch.sigmoid(output1).item()\n",
        "\n",
        "        if prob1 < 0.5:  # Predicts Caries (class 0)\n",
        "            print(\"Caries\")\n",
        "        else:\n",
        "            # Load and use model2 (to check if it's Amalgam or Normal)\n",
        "            model2 = load_model(model_path2, model_class).to(DEVICE)\n",
        "            output2 = model2(image_tensor)\n",
        "            prob2 = torch.sigmoid(output2).item()\n",
        "\n",
        "            # Model 2: Amalgam vs Normal\n",
        "            if prob2 < 0.5:\n",
        "                print(\"Amalgam\")\n",
        "            else:\n",
        "                print(\"Normal\")"
      ],
      "metadata": {
        "id": "3e9vbX2ldxbO"
      },
      "execution_count": 13,
      "outputs": []
    },
    {
      "cell_type": "code",
      "source": [
        "if __name__ == '__main__':\n",
        "    data_dir = '/content/drive/MyDrive/Dentisrty/data'  # Update this path\n",
        "\n",
        "    # Step 1: Define class mappings\n",
        "    folder_to_label_mapping_caries = {'Caries': 0, 'Amalgam': 1, 'Normal': 1}\n",
        "    folder_to_label_mapping_non_caries = {'Amalgam': 0, 'Normal': 1}\n",
        "\n",
        "    # Step 2: Load data for both models\n",
        "    print(\"Loading data...\")\n",
        "    images_caries, labels_caries = load_data(data_dir, folder_to_label_mapping_caries)\n",
        "    images_non_caries, labels_non_caries = load_data(data_dir, folder_to_label_mapping_non_caries)\n",
        "\n",
        "    # Step 3: Split data into train (80%) and test (20%) sets\n",
        "    print(\"Splitting data...\")\n",
        "    X_train_caries, X_test_caries, y_train_caries, y_test_caries = train_test_split(images_caries, labels_caries, test_size=0.2, random_state=42)\n",
        "    X_train_non_caries, X_test_non_caries, y_train_non_caries, y_test_non_caries = train_test_split(images_non_caries, labels_non_caries, test_size=0.2, random_state=42)\n",
        "\n",
        "    # Step 4: Split train data into train (80%) and validation (20%)\n",
        "    X_train_caries, X_val_caries, y_train_caries, y_val_caries = train_test_split(X_train_caries, y_train_caries, test_size=0.2, random_state=42)\n",
        "    X_train_non_caries, X_val_non_caries, y_train_non_caries, y_val_non_caries = train_test_split(X_train_non_caries, y_train_non_caries, test_size=0.2, random_state=42)\n",
        "\n",
        "    # Step 5: Prepare dataloaders for both models (train, val, and test)\n",
        "    print(\"Preparing dataloaders...\")\n",
        "    train_dataset_caries = DentalDataset(X_train_caries, y_train_caries, transform=data_transforms)\n",
        "    val_dataset_caries = DentalDataset(X_val_caries, y_val_caries, transform=data_transforms)\n",
        "    test_dataset_caries = DentalDataset(X_test_caries, y_test_caries, transform=data_transforms)\n",
        "\n",
        "    train_loader_caries = DataLoader(train_dataset_caries, batch_size=BATCH_SIZE, shuffle=True)\n",
        "    val_loader_caries = DataLoader(val_dataset_caries, batch_size=BATCH_SIZE, shuffle=False)\n",
        "    test_loader_caries = DataLoader(test_dataset_caries, batch_size=BATCH_SIZE, shuffle=False)\n",
        "\n",
        "    train_dataset_non_caries = DentalDataset(X_train_non_caries, y_train_non_caries, transform=data_transforms)\n",
        "    val_dataset_non_caries = DentalDataset(X_val_non_caries, y_val_non_caries, transform=data_transforms)\n",
        "    test_dataset_non_caries = DentalDataset(X_test_non_caries, y_test_non_caries, transform=data_transforms)\n",
        "\n",
        "    train_loader_non_caries = DataLoader(train_dataset_non_caries, batch_size=BATCH_SIZE, shuffle=True)\n",
        "    val_loader_non_caries = DataLoader(val_dataset_non_caries, batch_size=BATCH_SIZE, shuffle=False)\n",
        "    test_loader_non_caries = DataLoader(test_dataset_non_caries, batch_size=BATCH_SIZE, shuffle=False)\n",
        "\n",
        "    # Step 6: Train multiple models for both Caries and Non-Caries detection\n",
        "    models_to_test = ['resnet18']  # You can add more models like 'vgg16', 'densenet121', 'mobilenet_v2'\n",
        "\n",
        "    for model_name in models_to_test:\n",
        "        # Caries Detection Model (2 classes: Caries and Non-Caries)\n",
        "        model_caries = build_pretrained_model(model_name, 2)\n",
        "        criterion = nn.CrossEntropyLoss()\n",
        "        optimizer = optim.Adam(model_caries.parameters(), lr=LEARNING_RATE)\n",
        "        print(f\"Training model: {model_name} for Caries Detection\")\n",
        "        train_model(model_caries, train_loader_caries, val_loader_caries, test_loader_caries, criterion, optimizer, model_name + \"_caries\")\n",
        "\n",
        "        # Non-Caries Detection Model (2 classes: Amalgam and Normal)\n",
        "        model_non_caries = build_pretrained_model(model_name, 2)\n",
        "        criterion = nn.CrossEntropyLoss()\n",
        "        optimizer = optim.Adam(model_non_caries.parameters(), lr=LEARNING_RATE)\n",
        "        print(f\"Training model: {model_name} for Non-Caries Detection\")\n",
        "        train_model(model_non_caries, train_loader_non_caries, val_loader_non_caries, test_loader_non_caries, criterion, optimizer, model_name + \"_non_caries\")"
      ],
      "metadata": {
        "colab": {
          "base_uri": "https://localhost:8080/"
        },
        "id": "w9Zzs4j8d27a",
        "outputId": "6d097032-b35b-4f66-c483-f753b720dbac"
      },
      "execution_count": 15,
      "outputs": [
        {
          "output_type": "stream",
          "name": "stdout",
          "text": [
            "Loading data...\n",
            "Splitting data...\n",
            "Preparing dataloaders...\n",
            "Training model: resnet18 for Caries Detection\n",
            "Epoch 1/10, Loss: 0.9048\n",
            "Accuracy: 0.2800\n",
            "Validation Accuracy after Epoch 1: 0.2800\n",
            "Epoch 2/10, Loss: 0.4708\n",
            "Accuracy: 0.6800\n",
            "Validation Accuracy after Epoch 2: 0.6800\n",
            "Epoch 3/10, Loss: 0.4631\n",
            "Accuracy: 0.7600\n",
            "Validation Accuracy after Epoch 3: 0.7600\n",
            "Epoch 4/10, Loss: 0.0284\n",
            "Accuracy: 0.6400\n",
            "Validation Accuracy after Epoch 4: 0.6400\n",
            "Epoch 5/10, Loss: 0.0468\n",
            "Accuracy: 0.6000\n",
            "Validation Accuracy after Epoch 5: 0.6000\n",
            "Epoch 6/10, Loss: 0.0867\n",
            "Accuracy: 0.5600\n",
            "Validation Accuracy after Epoch 6: 0.5600\n",
            "Epoch 7/10, Loss: 0.0790\n",
            "Accuracy: 0.6000\n",
            "Validation Accuracy after Epoch 7: 0.6000\n",
            "Epoch 8/10, Loss: 0.0101\n",
            "Accuracy: 0.7200\n",
            "Validation Accuracy after Epoch 8: 0.7200\n",
            "Epoch 9/10, Loss: 0.0338\n",
            "Accuracy: 0.7600\n",
            "Validation Accuracy after Epoch 9: 0.7600\n",
            "Epoch 10/10, Loss: 0.0612\n",
            "Accuracy: 0.7600\n",
            "Validation Accuracy after Epoch 10: 0.7600\n",
            "Best model for resnet18_caries saved with validation accuracy: 0.7600\n",
            "Accuracy: 0.8387\n",
            "Test Accuracy for resnet18_caries: 0.8387\n"
          ]
        },
        {
          "output_type": "stream",
          "name": "stderr",
          "text": [
            "/usr/local/lib/python3.10/dist-packages/torchvision/models/_utils.py:208: UserWarning: The parameter 'pretrained' is deprecated since 0.13 and may be removed in the future, please use 'weights' instead.\n",
            "  warnings.warn(\n",
            "/usr/local/lib/python3.10/dist-packages/torchvision/models/_utils.py:223: UserWarning: Arguments other than a weight enum or `None` for 'weights' are deprecated since 0.13 and may be removed in the future. The current behavior is equivalent to passing `weights=ResNet18_Weights.IMAGENET1K_V1`. You can also use `weights=ResNet18_Weights.DEFAULT` to get the most up-to-date weights.\n",
            "  warnings.warn(msg)\n"
          ]
        },
        {
          "output_type": "stream",
          "name": "stdout",
          "text": [
            "Training model: resnet18 for Non-Caries Detection\n",
            "Epoch 1/10, Loss: 0.7869\n",
            "Accuracy: 0.3333\n",
            "Validation Accuracy after Epoch 1: 0.3333\n",
            "Epoch 2/10, Loss: 0.4751\n",
            "Accuracy: 0.8095\n",
            "Validation Accuracy after Epoch 2: 0.8095\n",
            "Epoch 3/10, Loss: 0.3119\n",
            "Accuracy: 0.3810\n",
            "Validation Accuracy after Epoch 3: 0.3810\n",
            "Epoch 4/10, Loss: 0.1155\n",
            "Accuracy: 0.3333\n",
            "Validation Accuracy after Epoch 4: 0.3333\n",
            "Epoch 5/10, Loss: 0.1525\n",
            "Accuracy: 0.6190\n",
            "Validation Accuracy after Epoch 5: 0.6190\n",
            "Epoch 6/10, Loss: 0.1069\n",
            "Accuracy: 0.6667\n",
            "Validation Accuracy after Epoch 6: 0.6667\n",
            "Epoch 7/10, Loss: 0.0115\n",
            "Accuracy: 0.6667\n",
            "Validation Accuracy after Epoch 7: 0.6667\n",
            "Epoch 8/10, Loss: 0.0249\n",
            "Accuracy: 0.7143\n",
            "Validation Accuracy after Epoch 8: 0.7143\n",
            "Epoch 9/10, Loss: 0.0210\n",
            "Accuracy: 0.7143\n",
            "Validation Accuracy after Epoch 9: 0.7143\n",
            "Epoch 10/10, Loss: 0.0049\n",
            "Accuracy: 0.9048\n",
            "Validation Accuracy after Epoch 10: 0.9048\n",
            "Best model for resnet18_non_caries saved with validation accuracy: 0.9048\n",
            "Accuracy: 0.9259\n",
            "Test Accuracy for resnet18_non_caries: 0.9259\n"
          ]
        }
      ]
    }
  ]
}